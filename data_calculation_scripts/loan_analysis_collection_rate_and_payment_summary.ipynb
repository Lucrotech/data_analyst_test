{
 "cells": [
  {
   "cell_type": "code",
   "execution_count": null,
   "metadata": {
    "vscode": {
     "languageId": "plaintext"
    }
   },
   "outputs": [],
   "source": [
    "# Loan Analysis: Collection Rate and Payment Summary\n",
    "\n",
    "This notebook calculates the collection rate per currency and provides a summary of the total amount of issued loans versus the total amount of payments collected.\n",
    "\n",
    "## Load Data"
   ]
  },
  {
   "cell_type": "code",
   "execution_count": null,
   "metadata": {
    "vscode": {
     "languageId": "plaintext"
    }
   },
   "outputs": [],
   "source": [
    "import pandas as pd\n",
    "\n",
    "# Load the cleaned_payments.csv and cleaned_loans.csv files\n",
    "payments_file = \"cleaned_payments.csv\"  # Update with your file path\n",
    "loans_file = \"cleaned_loans.csv\"        # Update with your file path\n",
    "\n",
    "payments_df = pd.read_csv(payments_file)\n",
    "loans_df = pd.read_csv(loans_file, low_memory=False)"
   ]
  },
  {
   "cell_type": "markdown",
   "metadata": {},
   "source": [
    "## Data Preprocessing\n",
    "\n",
    "Convert date columns to datetime format and determine the latest loan record based on `as_of_datetime`."
   ]
  },
  {
   "cell_type": "code",
   "execution_count": null,
   "metadata": {
    "vscode": {
     "languageId": "plaintext"
    }
   },
   "outputs": [],
   "source": [
    "# Convert 'as_of_datetime' and 'payment_date' to datetime format\n",
    "loans_df['as_of_datetime'] = pd.to_datetime(loans_df['as_of_datetime'], errors='coerce')\n",
    "payments_df['payment_date'] = pd.to_datetime(payments_df['payment_date'], errors='coerce')\n",
    "\n",
    "# Select the latest record per loan_id based on as_of_datetime\n",
    "latest_loans_df = loans_df.loc[loans_df.groupby('loan_id')['as_of_datetime'].idxmax()]"
   ]
  },
  {
   "cell_type": "markdown",
   "metadata": {},
   "source": [
    "## Calculate Total Payments per Loan"
   ]
  },
  {
   "cell_type": "code",
   "execution_count": null,
   "metadata": {
    "vscode": {
     "languageId": "plaintext"
    }
   },
   "outputs": [],
   "source": [
    "# Calculate total payments per loan_id\n",
    "total_payments_per_loan = payments_df.groupby('loan_id').agg(\n",
    "    total_collected_amount=('amount', 'sum')\n",
    ").reset_index()\n",
    "\n",
    "# Merge with latest_loans_df to ensure we have all loans even if no payments have been made\n",
    "loans_payments_df = pd.merge(latest_loans_df, total_payments_per_loan, on='loan_id', how='left')\n",
    "loans_payments_df['total_collected_amount'] = loans_payments_df['total_collected_amount'].fillna(0)"
   ]
  },
  {
   "cell_type": "markdown",
   "metadata": {},
   "source": [
    "## Filter and Calculate Collection Rate"
   ]
  },
  {
   "cell_type": "code",
   "execution_count": null,
   "metadata": {
    "vscode": {
     "languageId": "plaintext"
    }
   },
   "outputs": [],
   "source": [
    "# Filter loans with as_of_datetime up to 31 July 2024\n",
    "filtered_loans_df = loans_payments_df[loans_payments_df['as_of_datetime'] <= pd.Timestamp('2024-07-31')]\n",
    "\n",
    "# Group by 'currency' to calculate total collected and principal amounts\n",
    "currency_summary = filtered_loans_df.groupby('currency').agg(\n",
    "    total_collected_amount=('total_collected_amount', 'sum'),\n",
    "    total_principal_amount=('principal_amount', 'sum')\n",
    ").reset_index()\n",
    "\n",
    "# Calculate the Collections Rate per currency as a percentage\n",
    "currency_summary['collections_rate'] = (\n",
    "    (currency_summary['total_collected_amount'] / currency_summary['total_principal_amount']) * 100\n",
    ")"
   ]
  },
  {
   "cell_type": "markdown",
   "metadata": {},
   "source": [
    "## Results: Collections Rate Summary by Currency"
   ]
  },
  {
   "cell_type": "code",
   "execution_count": null,
   "metadata": {
    "vscode": {
     "languageId": "plaintext"
    }
   },
   "outputs": [],
   "source": [
    "print(\"\\nCollections Rate Summary by Currency (as_of_datetime <= 31 July 2024):\")\n",
    "print(currency_summary)"
   ]
  },
  {
   "cell_type": "markdown",
   "metadata": {},
   "source": [
    "## Total Amount of Issued Loans vs. Collected Payments"
   ]
  },
  {
   "cell_type": "code",
   "execution_count": null,
   "metadata": {
    "vscode": {
     "languageId": "plaintext"
    }
   },
   "outputs": [],
   "source": [
    "# Calculate the total amount of issued loans and total amount of collected payments\n",
    "total_issued_loans = loans_payments_df['principal_amount'].sum()\n",
    "total_collected_payments = loans_payments_df['total_collected_amount'].sum()\n",
    "\n",
    "# Display the results\n",
    "print(f\"\\nTotal Amount of Issued Loans: {total_issued_loans:.2f}\")\n",
    "print(f\"Total Amount of Payments Collected: {total_collected_payments:.2f}\")"
   ]
  }
 ],
 "metadata": {
  "language_info": {
   "name": "python"
  }
 },
 "nbformat": 4,
 "nbformat_minor": 2
}
